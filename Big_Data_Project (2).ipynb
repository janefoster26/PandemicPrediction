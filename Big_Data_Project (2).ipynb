{
  "nbformat": 4,
  "nbformat_minor": 0,
  "metadata": {
    "colab": {
      "name": "Big_Data_Project.ipynb",
      "provenance": []
    },
    "kernelspec": {
      "name": "python3",
      "display_name": "Python 3"
    }
  },
  "cells": [
    {
      "cell_type": "code",
      "metadata": {
        "id": "u9_VQVBvQzkT",
        "colab_type": "code",
        "colab": {
          "base_uri": "https://localhost:8080/",
          "height": 70
        },
        "outputId": "480865cb-fe2c-4302-c8dd-c881769a07c5"
      },
      "source": [
        "import numpy as np\n",
        "import pandas as pd\n",
        "import matplotlib.pyplot as plt\n",
        "import matplotlib.colors as mcolors\n",
        "import random\n",
        "import math\n",
        "import time\n",
        "from sklearn.model_selection import RandomizedSearchCV,train_test_split\n",
        "from sklearn.metrics import mean_squared_error,mean_absolute_error,r2_score\n",
        "\n",
        "import statsmodels.api as sm\n",
        "import datetime\n",
        "import operator\n",
        "plt.style.use('seaborn')\n",
        "%matplotlib inline  "
      ],
      "execution_count": null,
      "outputs": [
        {
          "output_type": "stream",
          "text": [
            "/usr/local/lib/python3.6/dist-packages/statsmodels/tools/_testing.py:19: FutureWarning: pandas.util.testing is deprecated. Use the functions in the public API at pandas.testing instead.\n",
            "  import pandas.util.testing as tm\n"
          ],
          "name": "stderr"
        }
      ]
    },
    {
      "cell_type": "code",
      "metadata": {
        "id": "VzGKd0OWUlQx",
        "colab_type": "code",
        "colab": {
          "base_uri": "https://localhost:8080/",
          "height": 34
        },
        "outputId": "5f9dafeb-3fb5-4c75-dd95-bcf83b4c7bd4"
      },
      "source": [
        "from google.colab import drive\n",
        "drive.mount('/content/drive')\n"
      ],
      "execution_count": null,
      "outputs": [
        {
          "output_type": "stream",
          "text": [
            "Drive already mounted at /content/drive; to attempt to forcibly remount, call drive.mount(\"/content/drive\", force_remount=True).\n"
          ],
          "name": "stdout"
        }
      ]
    },
    {
      "cell_type": "code",
      "metadata": {
        "id": "VAnn137MUSHm",
        "colab_type": "code",
        "colab": {}
      },
      "source": [
        "data= pd.read_csv(\"/content/drive/My Drive/covid_19_india.csv\");"
      ],
      "execution_count": null,
      "outputs": []
    },
    {
      "cell_type": "code",
      "metadata": {
        "id": "u5E0qBHnVb1f",
        "colab_type": "code",
        "colab": {
          "base_uri": "https://localhost:8080/",
          "height": 195
        },
        "outputId": "7a03b8cb-f2b8-4458-ffce-00136faddc9b"
      },
      "source": [
        "data.head()"
      ],
      "execution_count": null,
      "outputs": [
        {
          "output_type": "execute_result",
          "data": {
            "text/html": [
              "<div>\n",
              "<style scoped>\n",
              "    .dataframe tbody tr th:only-of-type {\n",
              "        vertical-align: middle;\n",
              "    }\n",
              "\n",
              "    .dataframe tbody tr th {\n",
              "        vertical-align: top;\n",
              "    }\n",
              "\n",
              "    .dataframe thead th {\n",
              "        text-align: right;\n",
              "    }\n",
              "</style>\n",
              "<table border=\"1\" class=\"dataframe\">\n",
              "  <thead>\n",
              "    <tr style=\"text-align: right;\">\n",
              "      <th></th>\n",
              "      <th>Sno</th>\n",
              "      <th>Date</th>\n",
              "      <th>Time</th>\n",
              "      <th>State/UnionTerritory</th>\n",
              "      <th>ConfirmedIndianNational</th>\n",
              "      <th>ConfirmedForeignNational</th>\n",
              "      <th>Cured</th>\n",
              "      <th>Deaths</th>\n",
              "      <th>Confirmed</th>\n",
              "    </tr>\n",
              "  </thead>\n",
              "  <tbody>\n",
              "    <tr>\n",
              "      <th>0</th>\n",
              "      <td>1</td>\n",
              "      <td>30-01-2020</td>\n",
              "      <td>6:00 PM</td>\n",
              "      <td>Kerala</td>\n",
              "      <td>1</td>\n",
              "      <td>0</td>\n",
              "      <td>0</td>\n",
              "      <td>0</td>\n",
              "      <td>1</td>\n",
              "    </tr>\n",
              "    <tr>\n",
              "      <th>1</th>\n",
              "      <td>2</td>\n",
              "      <td>31-01-2020</td>\n",
              "      <td>6:00 PM</td>\n",
              "      <td>Kerala</td>\n",
              "      <td>1</td>\n",
              "      <td>0</td>\n",
              "      <td>0</td>\n",
              "      <td>0</td>\n",
              "      <td>1</td>\n",
              "    </tr>\n",
              "    <tr>\n",
              "      <th>2</th>\n",
              "      <td>3</td>\n",
              "      <td>01-02-2020</td>\n",
              "      <td>6:00 PM</td>\n",
              "      <td>Kerala</td>\n",
              "      <td>2</td>\n",
              "      <td>0</td>\n",
              "      <td>0</td>\n",
              "      <td>0</td>\n",
              "      <td>2</td>\n",
              "    </tr>\n",
              "    <tr>\n",
              "      <th>3</th>\n",
              "      <td>4</td>\n",
              "      <td>02-02-2020</td>\n",
              "      <td>6:00 PM</td>\n",
              "      <td>Kerala</td>\n",
              "      <td>3</td>\n",
              "      <td>0</td>\n",
              "      <td>0</td>\n",
              "      <td>0</td>\n",
              "      <td>3</td>\n",
              "    </tr>\n",
              "    <tr>\n",
              "      <th>4</th>\n",
              "      <td>5</td>\n",
              "      <td>03-02-2020</td>\n",
              "      <td>6:00 PM</td>\n",
              "      <td>Kerala</td>\n",
              "      <td>3</td>\n",
              "      <td>0</td>\n",
              "      <td>0</td>\n",
              "      <td>0</td>\n",
              "      <td>3</td>\n",
              "    </tr>\n",
              "  </tbody>\n",
              "</table>\n",
              "</div>"
            ],
            "text/plain": [
              "   Sno        Date     Time  ... Cured Deaths Confirmed\n",
              "0    1  30-01-2020  6:00 PM  ...     0      0         1\n",
              "1    2  31-01-2020  6:00 PM  ...     0      0         1\n",
              "2    3  01-02-2020  6:00 PM  ...     0      0         2\n",
              "3    4  02-02-2020  6:00 PM  ...     0      0         3\n",
              "4    5  03-02-2020  6:00 PM  ...     0      0         3\n",
              "\n",
              "[5 rows x 9 columns]"
            ]
          },
          "metadata": {
            "tags": []
          },
          "execution_count": 4
        }
      ]
    },
    {
      "cell_type": "code",
      "metadata": {
        "id": "d3i3hoJwXM4E",
        "colab_type": "code",
        "colab": {}
      },
      "source": [
        "confirmed_cases= pd.DataFrame(data, columns=['Date','Confirmed'])"
      ],
      "execution_count": null,
      "outputs": []
    },
    {
      "cell_type": "code",
      "metadata": {
        "id": "PQbicR2vl1co",
        "colab_type": "code",
        "colab": {
          "base_uri": "https://localhost:8080/",
          "height": 195
        },
        "outputId": "90fea931-1a57-412c-f48e-e10a7a2f9681"
      },
      "source": [
        "confirmed_cases.head()"
      ],
      "execution_count": null,
      "outputs": [
        {
          "output_type": "execute_result",
          "data": {
            "text/html": [
              "<div>\n",
              "<style scoped>\n",
              "    .dataframe tbody tr th:only-of-type {\n",
              "        vertical-align: middle;\n",
              "    }\n",
              "\n",
              "    .dataframe tbody tr th {\n",
              "        vertical-align: top;\n",
              "    }\n",
              "\n",
              "    .dataframe thead th {\n",
              "        text-align: right;\n",
              "    }\n",
              "</style>\n",
              "<table border=\"1\" class=\"dataframe\">\n",
              "  <thead>\n",
              "    <tr style=\"text-align: right;\">\n",
              "      <th></th>\n",
              "      <th>Date</th>\n",
              "      <th>Confirmed</th>\n",
              "    </tr>\n",
              "  </thead>\n",
              "  <tbody>\n",
              "    <tr>\n",
              "      <th>0</th>\n",
              "      <td>30-01-2020</td>\n",
              "      <td>1</td>\n",
              "    </tr>\n",
              "    <tr>\n",
              "      <th>1</th>\n",
              "      <td>31-01-2020</td>\n",
              "      <td>1</td>\n",
              "    </tr>\n",
              "    <tr>\n",
              "      <th>2</th>\n",
              "      <td>01-02-2020</td>\n",
              "      <td>2</td>\n",
              "    </tr>\n",
              "    <tr>\n",
              "      <th>3</th>\n",
              "      <td>02-02-2020</td>\n",
              "      <td>3</td>\n",
              "    </tr>\n",
              "    <tr>\n",
              "      <th>4</th>\n",
              "      <td>03-02-2020</td>\n",
              "      <td>3</td>\n",
              "    </tr>\n",
              "  </tbody>\n",
              "</table>\n",
              "</div>"
            ],
            "text/plain": [
              "         Date  Confirmed\n",
              "0  30-01-2020          1\n",
              "1  31-01-2020          1\n",
              "2  01-02-2020          2\n",
              "3  02-02-2020          3\n",
              "4  03-02-2020          3"
            ]
          },
          "metadata": {
            "tags": []
          },
          "execution_count": 6
        }
      ]
    },
    {
      "cell_type": "code",
      "metadata": {
        "id": "wFYSxYOxl6bc",
        "colab_type": "code",
        "colab": {}
      },
      "source": [
        "death_cases=pd.DataFrame(data,columns=['Date','Deaths'])"
      ],
      "execution_count": null,
      "outputs": []
    },
    {
      "cell_type": "code",
      "metadata": {
        "id": "wb_pmVqSmI5D",
        "colab_type": "code",
        "colab": {
          "base_uri": "https://localhost:8080/",
          "height": 195
        },
        "outputId": "25129d89-533f-4099-9a07-f2f15b146e18"
      },
      "source": [
        "death_cases.head()"
      ],
      "execution_count": null,
      "outputs": [
        {
          "output_type": "execute_result",
          "data": {
            "text/html": [
              "<div>\n",
              "<style scoped>\n",
              "    .dataframe tbody tr th:only-of-type {\n",
              "        vertical-align: middle;\n",
              "    }\n",
              "\n",
              "    .dataframe tbody tr th {\n",
              "        vertical-align: top;\n",
              "    }\n",
              "\n",
              "    .dataframe thead th {\n",
              "        text-align: right;\n",
              "    }\n",
              "</style>\n",
              "<table border=\"1\" class=\"dataframe\">\n",
              "  <thead>\n",
              "    <tr style=\"text-align: right;\">\n",
              "      <th></th>\n",
              "      <th>Date</th>\n",
              "      <th>Deaths</th>\n",
              "    </tr>\n",
              "  </thead>\n",
              "  <tbody>\n",
              "    <tr>\n",
              "      <th>0</th>\n",
              "      <td>30-01-2020</td>\n",
              "      <td>0</td>\n",
              "    </tr>\n",
              "    <tr>\n",
              "      <th>1</th>\n",
              "      <td>31-01-2020</td>\n",
              "      <td>0</td>\n",
              "    </tr>\n",
              "    <tr>\n",
              "      <th>2</th>\n",
              "      <td>01-02-2020</td>\n",
              "      <td>0</td>\n",
              "    </tr>\n",
              "    <tr>\n",
              "      <th>3</th>\n",
              "      <td>02-02-2020</td>\n",
              "      <td>0</td>\n",
              "    </tr>\n",
              "    <tr>\n",
              "      <th>4</th>\n",
              "      <td>03-02-2020</td>\n",
              "      <td>0</td>\n",
              "    </tr>\n",
              "  </tbody>\n",
              "</table>\n",
              "</div>"
            ],
            "text/plain": [
              "         Date  Deaths\n",
              "0  30-01-2020       0\n",
              "1  31-01-2020       0\n",
              "2  01-02-2020       0\n",
              "3  02-02-2020       0\n",
              "4  03-02-2020       0"
            ]
          },
          "metadata": {
            "tags": []
          },
          "execution_count": 8
        }
      ]
    },
    {
      "cell_type": "code",
      "metadata": {
        "id": "7d32waSkmL4C",
        "colab_type": "code",
        "colab": {}
      },
      "source": [
        "cured_cases=pd.DataFrame(data, columns=['Date','Cured'])"
      ],
      "execution_count": null,
      "outputs": []
    },
    {
      "cell_type": "code",
      "metadata": {
        "id": "9sb09QTz1L3r",
        "colab_type": "code",
        "colab": {
          "base_uri": "https://localhost:8080/",
          "height": 195
        },
        "outputId": "09016d17-b295-40ec-ccb0-792518f4a59d"
      },
      "source": [
        "cured_cases.head()"
      ],
      "execution_count": null,
      "outputs": [
        {
          "output_type": "execute_result",
          "data": {
            "text/html": [
              "<div>\n",
              "<style scoped>\n",
              "    .dataframe tbody tr th:only-of-type {\n",
              "        vertical-align: middle;\n",
              "    }\n",
              "\n",
              "    .dataframe tbody tr th {\n",
              "        vertical-align: top;\n",
              "    }\n",
              "\n",
              "    .dataframe thead th {\n",
              "        text-align: right;\n",
              "    }\n",
              "</style>\n",
              "<table border=\"1\" class=\"dataframe\">\n",
              "  <thead>\n",
              "    <tr style=\"text-align: right;\">\n",
              "      <th></th>\n",
              "      <th>Date</th>\n",
              "      <th>Cured</th>\n",
              "    </tr>\n",
              "  </thead>\n",
              "  <tbody>\n",
              "    <tr>\n",
              "      <th>0</th>\n",
              "      <td>30-01-2020</td>\n",
              "      <td>0</td>\n",
              "    </tr>\n",
              "    <tr>\n",
              "      <th>1</th>\n",
              "      <td>31-01-2020</td>\n",
              "      <td>0</td>\n",
              "    </tr>\n",
              "    <tr>\n",
              "      <th>2</th>\n",
              "      <td>01-02-2020</td>\n",
              "      <td>0</td>\n",
              "    </tr>\n",
              "    <tr>\n",
              "      <th>3</th>\n",
              "      <td>02-02-2020</td>\n",
              "      <td>0</td>\n",
              "    </tr>\n",
              "    <tr>\n",
              "      <th>4</th>\n",
              "      <td>03-02-2020</td>\n",
              "      <td>0</td>\n",
              "    </tr>\n",
              "  </tbody>\n",
              "</table>\n",
              "</div>"
            ],
            "text/plain": [
              "         Date  Cured\n",
              "0  30-01-2020      0\n",
              "1  31-01-2020      0\n",
              "2  01-02-2020      0\n",
              "3  02-02-2020      0\n",
              "4  03-02-2020      0"
            ]
          },
          "metadata": {
            "tags": []
          },
          "execution_count": 10
        }
      ]
    },
    {
      "cell_type": "code",
      "metadata": {
        "id": "0ydByUufmcds",
        "colab_type": "code",
        "colab": {}
      },
      "source": [
        "confirmed_cases1=confirmed_cases.groupby('Date',sort=False).sum()"
      ],
      "execution_count": null,
      "outputs": []
    },
    {
      "cell_type": "code",
      "metadata": {
        "id": "pWu6GVvinYJS",
        "colab_type": "code",
        "colab": {
          "base_uri": "https://localhost:8080/",
          "height": 431
        },
        "outputId": "7b59f93f-1be2-4992-8d07-cd3a341ea2a5"
      },
      "source": [
        "confirmed_cases1"
      ],
      "execution_count": null,
      "outputs": [
        {
          "output_type": "execute_result",
          "data": {
            "text/html": [
              "<div>\n",
              "<style scoped>\n",
              "    .dataframe tbody tr th:only-of-type {\n",
              "        vertical-align: middle;\n",
              "    }\n",
              "\n",
              "    .dataframe tbody tr th {\n",
              "        vertical-align: top;\n",
              "    }\n",
              "\n",
              "    .dataframe thead th {\n",
              "        text-align: right;\n",
              "    }\n",
              "</style>\n",
              "<table border=\"1\" class=\"dataframe\">\n",
              "  <thead>\n",
              "    <tr style=\"text-align: right;\">\n",
              "      <th></th>\n",
              "      <th>Confirmed</th>\n",
              "    </tr>\n",
              "    <tr>\n",
              "      <th>Date</th>\n",
              "      <th></th>\n",
              "    </tr>\n",
              "  </thead>\n",
              "  <tbody>\n",
              "    <tr>\n",
              "      <th>30-01-2020</th>\n",
              "      <td>1</td>\n",
              "    </tr>\n",
              "    <tr>\n",
              "      <th>31-01-2020</th>\n",
              "      <td>1</td>\n",
              "    </tr>\n",
              "    <tr>\n",
              "      <th>01-02-2020</th>\n",
              "      <td>2</td>\n",
              "    </tr>\n",
              "    <tr>\n",
              "      <th>02-02-2020</th>\n",
              "      <td>3</td>\n",
              "    </tr>\n",
              "    <tr>\n",
              "      <th>03-02-2020</th>\n",
              "      <td>3</td>\n",
              "    </tr>\n",
              "    <tr>\n",
              "      <th>...</th>\n",
              "      <td>...</td>\n",
              "    </tr>\n",
              "    <tr>\n",
              "      <th>12-05-2020</th>\n",
              "      <td>70756</td>\n",
              "    </tr>\n",
              "    <tr>\n",
              "      <th>13-05-2020</th>\n",
              "      <td>74281</td>\n",
              "    </tr>\n",
              "    <tr>\n",
              "      <th>14-05-2020</th>\n",
              "      <td>78003</td>\n",
              "    </tr>\n",
              "    <tr>\n",
              "      <th>15-05-2020</th>\n",
              "      <td>81970</td>\n",
              "    </tr>\n",
              "    <tr>\n",
              "      <th>16-05-2020</th>\n",
              "      <td>85710</td>\n",
              "    </tr>\n",
              "  </tbody>\n",
              "</table>\n",
              "<p>108 rows × 1 columns</p>\n",
              "</div>"
            ],
            "text/plain": [
              "            Confirmed\n",
              "Date                 \n",
              "30-01-2020          1\n",
              "31-01-2020          1\n",
              "01-02-2020          2\n",
              "02-02-2020          3\n",
              "03-02-2020          3\n",
              "...               ...\n",
              "12-05-2020      70756\n",
              "13-05-2020      74281\n",
              "14-05-2020      78003\n",
              "15-05-2020      81970\n",
              "16-05-2020      85710\n",
              "\n",
              "[108 rows x 1 columns]"
            ]
          },
          "metadata": {
            "tags": []
          },
          "execution_count": 12
        }
      ]
    },
    {
      "cell_type": "code",
      "metadata": {
        "id": "cpse7xxj1ff4",
        "colab_type": "code",
        "colab": {}
      },
      "source": [
        "death_cases1=death_cases.groupby('Date',sort=False).sum()"
      ],
      "execution_count": null,
      "outputs": []
    },
    {
      "cell_type": "code",
      "metadata": {
        "id": "vZ7NXVDA1sdB",
        "colab_type": "code",
        "colab": {
          "base_uri": "https://localhost:8080/",
          "height": 431
        },
        "outputId": "5b5a2fbe-6415-4453-fd2e-7a02c336caa3"
      },
      "source": [
        "death_cases1"
      ],
      "execution_count": null,
      "outputs": [
        {
          "output_type": "execute_result",
          "data": {
            "text/html": [
              "<div>\n",
              "<style scoped>\n",
              "    .dataframe tbody tr th:only-of-type {\n",
              "        vertical-align: middle;\n",
              "    }\n",
              "\n",
              "    .dataframe tbody tr th {\n",
              "        vertical-align: top;\n",
              "    }\n",
              "\n",
              "    .dataframe thead th {\n",
              "        text-align: right;\n",
              "    }\n",
              "</style>\n",
              "<table border=\"1\" class=\"dataframe\">\n",
              "  <thead>\n",
              "    <tr style=\"text-align: right;\">\n",
              "      <th></th>\n",
              "      <th>Deaths</th>\n",
              "    </tr>\n",
              "    <tr>\n",
              "      <th>Date</th>\n",
              "      <th></th>\n",
              "    </tr>\n",
              "  </thead>\n",
              "  <tbody>\n",
              "    <tr>\n",
              "      <th>30-01-2020</th>\n",
              "      <td>0</td>\n",
              "    </tr>\n",
              "    <tr>\n",
              "      <th>31-01-2020</th>\n",
              "      <td>0</td>\n",
              "    </tr>\n",
              "    <tr>\n",
              "      <th>01-02-2020</th>\n",
              "      <td>0</td>\n",
              "    </tr>\n",
              "    <tr>\n",
              "      <th>02-02-2020</th>\n",
              "      <td>0</td>\n",
              "    </tr>\n",
              "    <tr>\n",
              "      <th>03-02-2020</th>\n",
              "      <td>0</td>\n",
              "    </tr>\n",
              "    <tr>\n",
              "      <th>...</th>\n",
              "      <td>...</td>\n",
              "    </tr>\n",
              "    <tr>\n",
              "      <th>12-05-2020</th>\n",
              "      <td>2293</td>\n",
              "    </tr>\n",
              "    <tr>\n",
              "      <th>13-05-2020</th>\n",
              "      <td>2415</td>\n",
              "    </tr>\n",
              "    <tr>\n",
              "      <th>14-05-2020</th>\n",
              "      <td>2549</td>\n",
              "    </tr>\n",
              "    <tr>\n",
              "      <th>15-05-2020</th>\n",
              "      <td>2649</td>\n",
              "    </tr>\n",
              "    <tr>\n",
              "      <th>16-05-2020</th>\n",
              "      <td>2752</td>\n",
              "    </tr>\n",
              "  </tbody>\n",
              "</table>\n",
              "<p>108 rows × 1 columns</p>\n",
              "</div>"
            ],
            "text/plain": [
              "            Deaths\n",
              "Date              \n",
              "30-01-2020       0\n",
              "31-01-2020       0\n",
              "01-02-2020       0\n",
              "02-02-2020       0\n",
              "03-02-2020       0\n",
              "...            ...\n",
              "12-05-2020    2293\n",
              "13-05-2020    2415\n",
              "14-05-2020    2549\n",
              "15-05-2020    2649\n",
              "16-05-2020    2752\n",
              "\n",
              "[108 rows x 1 columns]"
            ]
          },
          "metadata": {
            "tags": []
          },
          "execution_count": 14
        }
      ]
    },
    {
      "cell_type": "code",
      "metadata": {
        "id": "0kDX-Oo11yU2",
        "colab_type": "code",
        "colab": {}
      },
      "source": [
        "cured_cases1=cured_cases.groupby('Date',sort=False).sum()"
      ],
      "execution_count": null,
      "outputs": []
    },
    {
      "cell_type": "code",
      "metadata": {
        "id": "Snv_Ycyy15sC",
        "colab_type": "code",
        "colab": {
          "base_uri": "https://localhost:8080/",
          "height": 431
        },
        "outputId": "e891471d-40b3-4f6a-874f-fee138bac83f"
      },
      "source": [
        "cured_cases1"
      ],
      "execution_count": null,
      "outputs": [
        {
          "output_type": "execute_result",
          "data": {
            "text/html": [
              "<div>\n",
              "<style scoped>\n",
              "    .dataframe tbody tr th:only-of-type {\n",
              "        vertical-align: middle;\n",
              "    }\n",
              "\n",
              "    .dataframe tbody tr th {\n",
              "        vertical-align: top;\n",
              "    }\n",
              "\n",
              "    .dataframe thead th {\n",
              "        text-align: right;\n",
              "    }\n",
              "</style>\n",
              "<table border=\"1\" class=\"dataframe\">\n",
              "  <thead>\n",
              "    <tr style=\"text-align: right;\">\n",
              "      <th></th>\n",
              "      <th>Cured</th>\n",
              "    </tr>\n",
              "    <tr>\n",
              "      <th>Date</th>\n",
              "      <th></th>\n",
              "    </tr>\n",
              "  </thead>\n",
              "  <tbody>\n",
              "    <tr>\n",
              "      <th>30-01-2020</th>\n",
              "      <td>0</td>\n",
              "    </tr>\n",
              "    <tr>\n",
              "      <th>31-01-2020</th>\n",
              "      <td>0</td>\n",
              "    </tr>\n",
              "    <tr>\n",
              "      <th>01-02-2020</th>\n",
              "      <td>0</td>\n",
              "    </tr>\n",
              "    <tr>\n",
              "      <th>02-02-2020</th>\n",
              "      <td>0</td>\n",
              "    </tr>\n",
              "    <tr>\n",
              "      <th>03-02-2020</th>\n",
              "      <td>0</td>\n",
              "    </tr>\n",
              "    <tr>\n",
              "      <th>...</th>\n",
              "      <td>...</td>\n",
              "    </tr>\n",
              "    <tr>\n",
              "      <th>12-05-2020</th>\n",
              "      <td>22455</td>\n",
              "    </tr>\n",
              "    <tr>\n",
              "      <th>13-05-2020</th>\n",
              "      <td>24386</td>\n",
              "    </tr>\n",
              "    <tr>\n",
              "      <th>14-05-2020</th>\n",
              "      <td>26235</td>\n",
              "    </tr>\n",
              "    <tr>\n",
              "      <th>15-05-2020</th>\n",
              "      <td>27920</td>\n",
              "    </tr>\n",
              "    <tr>\n",
              "      <th>16-05-2020</th>\n",
              "      <td>30153</td>\n",
              "    </tr>\n",
              "  </tbody>\n",
              "</table>\n",
              "<p>108 rows × 1 columns</p>\n",
              "</div>"
            ],
            "text/plain": [
              "            Cured\n",
              "Date             \n",
              "30-01-2020      0\n",
              "31-01-2020      0\n",
              "01-02-2020      0\n",
              "02-02-2020      0\n",
              "03-02-2020      0\n",
              "...           ...\n",
              "12-05-2020  22455\n",
              "13-05-2020  24386\n",
              "14-05-2020  26235\n",
              "15-05-2020  27920\n",
              "16-05-2020  30153\n",
              "\n",
              "[108 rows x 1 columns]"
            ]
          },
          "metadata": {
            "tags": []
          },
          "execution_count": 16
        }
      ]
    },
    {
      "cell_type": "code",
      "metadata": {
        "id": "ZzLBnM3VgreX",
        "colab_type": "code",
        "colab": {}
      },
      "source": [
        "datewise_confirmed_cases=confirmed_cases1.transpose()"
      ],
      "execution_count": null,
      "outputs": []
    },
    {
      "cell_type": "code",
      "metadata": {
        "id": "oCSxHeEs3CnQ",
        "colab_type": "code",
        "colab": {}
      },
      "source": [
        "datewise_cured_cases= cured_cases1.transpose()"
      ],
      "execution_count": null,
      "outputs": []
    },
    {
      "cell_type": "code",
      "metadata": {
        "id": "dvEyYHCN3PoI",
        "colab_type": "code",
        "colab": {}
      },
      "source": [
        "datewise_death_cases= death_cases1.transpose()"
      ],
      "execution_count": null,
      "outputs": []
    },
    {
      "cell_type": "code",
      "metadata": {
        "id": "0X1f2mGUncm8",
        "colab_type": "code",
        "colab": {
          "base_uri": "https://localhost:8080/",
          "height": 159
        },
        "outputId": "828d0c9e-d49d-4166-a4fe-20fbea03391b"
      },
      "source": [
        "datewise_confirmed_cases"
      ],
      "execution_count": null,
      "outputs": [
        {
          "output_type": "execute_result",
          "data": {
            "text/html": [
              "<div>\n",
              "<style scoped>\n",
              "    .dataframe tbody tr th:only-of-type {\n",
              "        vertical-align: middle;\n",
              "    }\n",
              "\n",
              "    .dataframe tbody tr th {\n",
              "        vertical-align: top;\n",
              "    }\n",
              "\n",
              "    .dataframe thead th {\n",
              "        text-align: right;\n",
              "    }\n",
              "</style>\n",
              "<table border=\"1\" class=\"dataframe\">\n",
              "  <thead>\n",
              "    <tr style=\"text-align: right;\">\n",
              "      <th>Date</th>\n",
              "      <th>30-01-2020</th>\n",
              "      <th>31-01-2020</th>\n",
              "      <th>01-02-2020</th>\n",
              "      <th>02-02-2020</th>\n",
              "      <th>03-02-2020</th>\n",
              "      <th>04-02-2020</th>\n",
              "      <th>05-02-2020</th>\n",
              "      <th>06-02-2020</th>\n",
              "      <th>07-02-2020</th>\n",
              "      <th>08-02-2020</th>\n",
              "      <th>09-02-2020</th>\n",
              "      <th>10-02-2020</th>\n",
              "      <th>11-02-2020</th>\n",
              "      <th>12-02-2020</th>\n",
              "      <th>13-02-2020</th>\n",
              "      <th>14-02-2020</th>\n",
              "      <th>15-02-2020</th>\n",
              "      <th>16-02-2020</th>\n",
              "      <th>17-02-2020</th>\n",
              "      <th>18-02-2020</th>\n",
              "      <th>19-02-2020</th>\n",
              "      <th>20-02-2020</th>\n",
              "      <th>21-02-2020</th>\n",
              "      <th>22-02-2020</th>\n",
              "      <th>23-02-2020</th>\n",
              "      <th>24-02-2020</th>\n",
              "      <th>25-02-2020</th>\n",
              "      <th>26-02-2020</th>\n",
              "      <th>27-02-2020</th>\n",
              "      <th>28-02-2020</th>\n",
              "      <th>29-02-2020</th>\n",
              "      <th>01-03-2020</th>\n",
              "      <th>02-03-2020</th>\n",
              "      <th>03-03-2020</th>\n",
              "      <th>04-03-2020</th>\n",
              "      <th>05-03-2020</th>\n",
              "      <th>06-03-2020</th>\n",
              "      <th>07-03-2020</th>\n",
              "      <th>08-03-2020</th>\n",
              "      <th>09-03-2020</th>\n",
              "      <th>...</th>\n",
              "      <th>07-04-2020</th>\n",
              "      <th>08-04-2020</th>\n",
              "      <th>09-04-2020</th>\n",
              "      <th>10-04-2020</th>\n",
              "      <th>11-04-2020</th>\n",
              "      <th>12-04-2020</th>\n",
              "      <th>13-04-2020</th>\n",
              "      <th>14-04-2020</th>\n",
              "      <th>15-04-2020</th>\n",
              "      <th>16-04-2020</th>\n",
              "      <th>17-04-2020</th>\n",
              "      <th>18-04-2020</th>\n",
              "      <th>19-04-2020</th>\n",
              "      <th>20-04-2020</th>\n",
              "      <th>21-04-2020</th>\n",
              "      <th>22-04-2020</th>\n",
              "      <th>23-04-2020</th>\n",
              "      <th>24-04-2020</th>\n",
              "      <th>25-04-2020</th>\n",
              "      <th>26-04-2020</th>\n",
              "      <th>27-04-2020</th>\n",
              "      <th>28-04-2020</th>\n",
              "      <th>29-04-2020</th>\n",
              "      <th>30-04-2020</th>\n",
              "      <th>01-05-2020</th>\n",
              "      <th>02-05-2020</th>\n",
              "      <th>03-05-2020</th>\n",
              "      <th>04-05-2020</th>\n",
              "      <th>05-05-2020</th>\n",
              "      <th>06-05-2020</th>\n",
              "      <th>07-05-2020</th>\n",
              "      <th>08-05-2020</th>\n",
              "      <th>09-05-2020</th>\n",
              "      <th>10-05-2020</th>\n",
              "      <th>11-05-2020</th>\n",
              "      <th>12-05-2020</th>\n",
              "      <th>13-05-2020</th>\n",
              "      <th>14-05-2020</th>\n",
              "      <th>15-05-2020</th>\n",
              "      <th>16-05-2020</th>\n",
              "    </tr>\n",
              "  </thead>\n",
              "  <tbody>\n",
              "    <tr>\n",
              "      <th>Confirmed</th>\n",
              "      <td>1</td>\n",
              "      <td>1</td>\n",
              "      <td>2</td>\n",
              "      <td>3</td>\n",
              "      <td>3</td>\n",
              "      <td>3</td>\n",
              "      <td>3</td>\n",
              "      <td>3</td>\n",
              "      <td>3</td>\n",
              "      <td>3</td>\n",
              "      <td>3</td>\n",
              "      <td>3</td>\n",
              "      <td>3</td>\n",
              "      <td>3</td>\n",
              "      <td>3</td>\n",
              "      <td>3</td>\n",
              "      <td>3</td>\n",
              "      <td>3</td>\n",
              "      <td>3</td>\n",
              "      <td>3</td>\n",
              "      <td>3</td>\n",
              "      <td>3</td>\n",
              "      <td>3</td>\n",
              "      <td>3</td>\n",
              "      <td>3</td>\n",
              "      <td>3</td>\n",
              "      <td>3</td>\n",
              "      <td>3</td>\n",
              "      <td>3</td>\n",
              "      <td>3</td>\n",
              "      <td>3</td>\n",
              "      <td>3</td>\n",
              "      <td>5</td>\n",
              "      <td>6</td>\n",
              "      <td>28</td>\n",
              "      <td>30</td>\n",
              "      <td>31</td>\n",
              "      <td>34</td>\n",
              "      <td>39</td>\n",
              "      <td>46</td>\n",
              "      <td>...</td>\n",
              "      <td>4789</td>\n",
              "      <td>5274</td>\n",
              "      <td>5865</td>\n",
              "      <td>6761</td>\n",
              "      <td>7529</td>\n",
              "      <td>8447</td>\n",
              "      <td>9352</td>\n",
              "      <td>10815</td>\n",
              "      <td>11933</td>\n",
              "      <td>12759</td>\n",
              "      <td>13835</td>\n",
              "      <td>14792</td>\n",
              "      <td>16116</td>\n",
              "      <td>17656</td>\n",
              "      <td>18985</td>\n",
              "      <td>20471</td>\n",
              "      <td>21700</td>\n",
              "      <td>23452</td>\n",
              "      <td>24893</td>\n",
              "      <td>26605</td>\n",
              "      <td>28160</td>\n",
              "      <td>29834</td>\n",
              "      <td>31709</td>\n",
              "      <td>33330</td>\n",
              "      <td>34972</td>\n",
              "      <td>37157</td>\n",
              "      <td>40124</td>\n",
              "      <td>42836</td>\n",
              "      <td>46711</td>\n",
              "      <td>49391</td>\n",
              "      <td>52952</td>\n",
              "      <td>56342</td>\n",
              "      <td>59662</td>\n",
              "      <td>62939</td>\n",
              "      <td>67152</td>\n",
              "      <td>70756</td>\n",
              "      <td>74281</td>\n",
              "      <td>78003</td>\n",
              "      <td>81970</td>\n",
              "      <td>85710</td>\n",
              "    </tr>\n",
              "  </tbody>\n",
              "</table>\n",
              "<p>1 rows × 108 columns</p>\n",
              "</div>"
            ],
            "text/plain": [
              "Date       30-01-2020  31-01-2020  ...  15-05-2020  16-05-2020\n",
              "Confirmed           1           1  ...       81970       85710\n",
              "\n",
              "[1 rows x 108 columns]"
            ]
          },
          "metadata": {
            "tags": []
          },
          "execution_count": 20
        }
      ]
    },
    {
      "cell_type": "code",
      "metadata": {
        "id": "zZKf-W2g3YYP",
        "colab_type": "code",
        "colab": {
          "base_uri": "https://localhost:8080/",
          "height": 159
        },
        "outputId": "5e1560b4-73e8-4948-f630-3dcfd6579906"
      },
      "source": [
        "datewise_cured_cases"
      ],
      "execution_count": null,
      "outputs": [
        {
          "output_type": "execute_result",
          "data": {
            "text/html": [
              "<div>\n",
              "<style scoped>\n",
              "    .dataframe tbody tr th:only-of-type {\n",
              "        vertical-align: middle;\n",
              "    }\n",
              "\n",
              "    .dataframe tbody tr th {\n",
              "        vertical-align: top;\n",
              "    }\n",
              "\n",
              "    .dataframe thead th {\n",
              "        text-align: right;\n",
              "    }\n",
              "</style>\n",
              "<table border=\"1\" class=\"dataframe\">\n",
              "  <thead>\n",
              "    <tr style=\"text-align: right;\">\n",
              "      <th>Date</th>\n",
              "      <th>30-01-2020</th>\n",
              "      <th>31-01-2020</th>\n",
              "      <th>01-02-2020</th>\n",
              "      <th>02-02-2020</th>\n",
              "      <th>03-02-2020</th>\n",
              "      <th>04-02-2020</th>\n",
              "      <th>05-02-2020</th>\n",
              "      <th>06-02-2020</th>\n",
              "      <th>07-02-2020</th>\n",
              "      <th>08-02-2020</th>\n",
              "      <th>09-02-2020</th>\n",
              "      <th>10-02-2020</th>\n",
              "      <th>11-02-2020</th>\n",
              "      <th>12-02-2020</th>\n",
              "      <th>13-02-2020</th>\n",
              "      <th>14-02-2020</th>\n",
              "      <th>15-02-2020</th>\n",
              "      <th>16-02-2020</th>\n",
              "      <th>17-02-2020</th>\n",
              "      <th>18-02-2020</th>\n",
              "      <th>19-02-2020</th>\n",
              "      <th>20-02-2020</th>\n",
              "      <th>21-02-2020</th>\n",
              "      <th>22-02-2020</th>\n",
              "      <th>23-02-2020</th>\n",
              "      <th>24-02-2020</th>\n",
              "      <th>25-02-2020</th>\n",
              "      <th>26-02-2020</th>\n",
              "      <th>27-02-2020</th>\n",
              "      <th>28-02-2020</th>\n",
              "      <th>29-02-2020</th>\n",
              "      <th>01-03-2020</th>\n",
              "      <th>02-03-2020</th>\n",
              "      <th>03-03-2020</th>\n",
              "      <th>04-03-2020</th>\n",
              "      <th>05-03-2020</th>\n",
              "      <th>06-03-2020</th>\n",
              "      <th>07-03-2020</th>\n",
              "      <th>08-03-2020</th>\n",
              "      <th>09-03-2020</th>\n",
              "      <th>...</th>\n",
              "      <th>07-04-2020</th>\n",
              "      <th>08-04-2020</th>\n",
              "      <th>09-04-2020</th>\n",
              "      <th>10-04-2020</th>\n",
              "      <th>11-04-2020</th>\n",
              "      <th>12-04-2020</th>\n",
              "      <th>13-04-2020</th>\n",
              "      <th>14-04-2020</th>\n",
              "      <th>15-04-2020</th>\n",
              "      <th>16-04-2020</th>\n",
              "      <th>17-04-2020</th>\n",
              "      <th>18-04-2020</th>\n",
              "      <th>19-04-2020</th>\n",
              "      <th>20-04-2020</th>\n",
              "      <th>21-04-2020</th>\n",
              "      <th>22-04-2020</th>\n",
              "      <th>23-04-2020</th>\n",
              "      <th>24-04-2020</th>\n",
              "      <th>25-04-2020</th>\n",
              "      <th>26-04-2020</th>\n",
              "      <th>27-04-2020</th>\n",
              "      <th>28-04-2020</th>\n",
              "      <th>29-04-2020</th>\n",
              "      <th>30-04-2020</th>\n",
              "      <th>01-05-2020</th>\n",
              "      <th>02-05-2020</th>\n",
              "      <th>03-05-2020</th>\n",
              "      <th>04-05-2020</th>\n",
              "      <th>05-05-2020</th>\n",
              "      <th>06-05-2020</th>\n",
              "      <th>07-05-2020</th>\n",
              "      <th>08-05-2020</th>\n",
              "      <th>09-05-2020</th>\n",
              "      <th>10-05-2020</th>\n",
              "      <th>11-05-2020</th>\n",
              "      <th>12-05-2020</th>\n",
              "      <th>13-05-2020</th>\n",
              "      <th>14-05-2020</th>\n",
              "      <th>15-05-2020</th>\n",
              "      <th>16-05-2020</th>\n",
              "    </tr>\n",
              "  </thead>\n",
              "  <tbody>\n",
              "    <tr>\n",
              "      <th>Cured</th>\n",
              "      <td>0</td>\n",
              "      <td>0</td>\n",
              "      <td>0</td>\n",
              "      <td>0</td>\n",
              "      <td>0</td>\n",
              "      <td>0</td>\n",
              "      <td>0</td>\n",
              "      <td>0</td>\n",
              "      <td>0</td>\n",
              "      <td>0</td>\n",
              "      <td>0</td>\n",
              "      <td>0</td>\n",
              "      <td>0</td>\n",
              "      <td>0</td>\n",
              "      <td>0</td>\n",
              "      <td>0</td>\n",
              "      <td>0</td>\n",
              "      <td>0</td>\n",
              "      <td>0</td>\n",
              "      <td>0</td>\n",
              "      <td>0</td>\n",
              "      <td>0</td>\n",
              "      <td>0</td>\n",
              "      <td>0</td>\n",
              "      <td>0</td>\n",
              "      <td>0</td>\n",
              "      <td>0</td>\n",
              "      <td>0</td>\n",
              "      <td>0</td>\n",
              "      <td>0</td>\n",
              "      <td>0</td>\n",
              "      <td>0</td>\n",
              "      <td>0</td>\n",
              "      <td>3</td>\n",
              "      <td>3</td>\n",
              "      <td>3</td>\n",
              "      <td>3</td>\n",
              "      <td>3</td>\n",
              "      <td>3</td>\n",
              "      <td>3</td>\n",
              "      <td>...</td>\n",
              "      <td>353</td>\n",
              "      <td>411</td>\n",
              "      <td>478</td>\n",
              "      <td>516</td>\n",
              "      <td>653</td>\n",
              "      <td>765</td>\n",
              "      <td>980</td>\n",
              "      <td>1190</td>\n",
              "      <td>1344</td>\n",
              "      <td>1515</td>\n",
              "      <td>1767</td>\n",
              "      <td>2015</td>\n",
              "      <td>2302</td>\n",
              "      <td>2842</td>\n",
              "      <td>3260</td>\n",
              "      <td>3960</td>\n",
              "      <td>4325</td>\n",
              "      <td>4814</td>\n",
              "      <td>5210</td>\n",
              "      <td>5914</td>\n",
              "      <td>6362</td>\n",
              "      <td>7027</td>\n",
              "      <td>7797</td>\n",
              "      <td>8373</td>\n",
              "      <td>9065</td>\n",
              "      <td>9951</td>\n",
              "      <td>10887</td>\n",
              "      <td>11762</td>\n",
              "      <td>13161</td>\n",
              "      <td>14183</td>\n",
              "      <td>15267</td>\n",
              "      <td>16540</td>\n",
              "      <td>17847</td>\n",
              "      <td>19358</td>\n",
              "      <td>20917</td>\n",
              "      <td>22455</td>\n",
              "      <td>24386</td>\n",
              "      <td>26235</td>\n",
              "      <td>27920</td>\n",
              "      <td>30153</td>\n",
              "    </tr>\n",
              "  </tbody>\n",
              "</table>\n",
              "<p>1 rows × 108 columns</p>\n",
              "</div>"
            ],
            "text/plain": [
              "Date   30-01-2020  31-01-2020  01-02-2020  ...  14-05-2020  15-05-2020  16-05-2020\n",
              "Cured           0           0           0  ...       26235       27920       30153\n",
              "\n",
              "[1 rows x 108 columns]"
            ]
          },
          "metadata": {
            "tags": []
          },
          "execution_count": 21
        }
      ]
    },
    {
      "cell_type": "code",
      "metadata": {
        "id": "stUwxk223gKY",
        "colab_type": "code",
        "colab": {
          "base_uri": "https://localhost:8080/",
          "height": 159
        },
        "outputId": "869cef75-08a2-47eb-86e7-8db5c095927d"
      },
      "source": [
        "datewise_death_cases"
      ],
      "execution_count": null,
      "outputs": [
        {
          "output_type": "execute_result",
          "data": {
            "text/html": [
              "<div>\n",
              "<style scoped>\n",
              "    .dataframe tbody tr th:only-of-type {\n",
              "        vertical-align: middle;\n",
              "    }\n",
              "\n",
              "    .dataframe tbody tr th {\n",
              "        vertical-align: top;\n",
              "    }\n",
              "\n",
              "    .dataframe thead th {\n",
              "        text-align: right;\n",
              "    }\n",
              "</style>\n",
              "<table border=\"1\" class=\"dataframe\">\n",
              "  <thead>\n",
              "    <tr style=\"text-align: right;\">\n",
              "      <th>Date</th>\n",
              "      <th>30-01-2020</th>\n",
              "      <th>31-01-2020</th>\n",
              "      <th>01-02-2020</th>\n",
              "      <th>02-02-2020</th>\n",
              "      <th>03-02-2020</th>\n",
              "      <th>04-02-2020</th>\n",
              "      <th>05-02-2020</th>\n",
              "      <th>06-02-2020</th>\n",
              "      <th>07-02-2020</th>\n",
              "      <th>08-02-2020</th>\n",
              "      <th>09-02-2020</th>\n",
              "      <th>10-02-2020</th>\n",
              "      <th>11-02-2020</th>\n",
              "      <th>12-02-2020</th>\n",
              "      <th>13-02-2020</th>\n",
              "      <th>14-02-2020</th>\n",
              "      <th>15-02-2020</th>\n",
              "      <th>16-02-2020</th>\n",
              "      <th>17-02-2020</th>\n",
              "      <th>18-02-2020</th>\n",
              "      <th>19-02-2020</th>\n",
              "      <th>20-02-2020</th>\n",
              "      <th>21-02-2020</th>\n",
              "      <th>22-02-2020</th>\n",
              "      <th>23-02-2020</th>\n",
              "      <th>24-02-2020</th>\n",
              "      <th>25-02-2020</th>\n",
              "      <th>26-02-2020</th>\n",
              "      <th>27-02-2020</th>\n",
              "      <th>28-02-2020</th>\n",
              "      <th>29-02-2020</th>\n",
              "      <th>01-03-2020</th>\n",
              "      <th>02-03-2020</th>\n",
              "      <th>03-03-2020</th>\n",
              "      <th>04-03-2020</th>\n",
              "      <th>05-03-2020</th>\n",
              "      <th>06-03-2020</th>\n",
              "      <th>07-03-2020</th>\n",
              "      <th>08-03-2020</th>\n",
              "      <th>09-03-2020</th>\n",
              "      <th>...</th>\n",
              "      <th>07-04-2020</th>\n",
              "      <th>08-04-2020</th>\n",
              "      <th>09-04-2020</th>\n",
              "      <th>10-04-2020</th>\n",
              "      <th>11-04-2020</th>\n",
              "      <th>12-04-2020</th>\n",
              "      <th>13-04-2020</th>\n",
              "      <th>14-04-2020</th>\n",
              "      <th>15-04-2020</th>\n",
              "      <th>16-04-2020</th>\n",
              "      <th>17-04-2020</th>\n",
              "      <th>18-04-2020</th>\n",
              "      <th>19-04-2020</th>\n",
              "      <th>20-04-2020</th>\n",
              "      <th>21-04-2020</th>\n",
              "      <th>22-04-2020</th>\n",
              "      <th>23-04-2020</th>\n",
              "      <th>24-04-2020</th>\n",
              "      <th>25-04-2020</th>\n",
              "      <th>26-04-2020</th>\n",
              "      <th>27-04-2020</th>\n",
              "      <th>28-04-2020</th>\n",
              "      <th>29-04-2020</th>\n",
              "      <th>30-04-2020</th>\n",
              "      <th>01-05-2020</th>\n",
              "      <th>02-05-2020</th>\n",
              "      <th>03-05-2020</th>\n",
              "      <th>04-05-2020</th>\n",
              "      <th>05-05-2020</th>\n",
              "      <th>06-05-2020</th>\n",
              "      <th>07-05-2020</th>\n",
              "      <th>08-05-2020</th>\n",
              "      <th>09-05-2020</th>\n",
              "      <th>10-05-2020</th>\n",
              "      <th>11-05-2020</th>\n",
              "      <th>12-05-2020</th>\n",
              "      <th>13-05-2020</th>\n",
              "      <th>14-05-2020</th>\n",
              "      <th>15-05-2020</th>\n",
              "      <th>16-05-2020</th>\n",
              "    </tr>\n",
              "  </thead>\n",
              "  <tbody>\n",
              "    <tr>\n",
              "      <th>Deaths</th>\n",
              "      <td>0</td>\n",
              "      <td>0</td>\n",
              "      <td>0</td>\n",
              "      <td>0</td>\n",
              "      <td>0</td>\n",
              "      <td>0</td>\n",
              "      <td>0</td>\n",
              "      <td>0</td>\n",
              "      <td>0</td>\n",
              "      <td>0</td>\n",
              "      <td>0</td>\n",
              "      <td>0</td>\n",
              "      <td>0</td>\n",
              "      <td>0</td>\n",
              "      <td>0</td>\n",
              "      <td>0</td>\n",
              "      <td>0</td>\n",
              "      <td>0</td>\n",
              "      <td>0</td>\n",
              "      <td>0</td>\n",
              "      <td>0</td>\n",
              "      <td>0</td>\n",
              "      <td>0</td>\n",
              "      <td>0</td>\n",
              "      <td>0</td>\n",
              "      <td>0</td>\n",
              "      <td>0</td>\n",
              "      <td>0</td>\n",
              "      <td>0</td>\n",
              "      <td>0</td>\n",
              "      <td>0</td>\n",
              "      <td>0</td>\n",
              "      <td>0</td>\n",
              "      <td>0</td>\n",
              "      <td>0</td>\n",
              "      <td>0</td>\n",
              "      <td>0</td>\n",
              "      <td>0</td>\n",
              "      <td>0</td>\n",
              "      <td>0</td>\n",
              "      <td>...</td>\n",
              "      <td>124</td>\n",
              "      <td>149</td>\n",
              "      <td>169</td>\n",
              "      <td>206</td>\n",
              "      <td>242</td>\n",
              "      <td>273</td>\n",
              "      <td>324</td>\n",
              "      <td>353</td>\n",
              "      <td>392</td>\n",
              "      <td>420</td>\n",
              "      <td>452</td>\n",
              "      <td>488</td>\n",
              "      <td>519</td>\n",
              "      <td>559</td>\n",
              "      <td>603</td>\n",
              "      <td>652</td>\n",
              "      <td>686</td>\n",
              "      <td>723</td>\n",
              "      <td>779</td>\n",
              "      <td>826</td>\n",
              "      <td>886</td>\n",
              "      <td>937</td>\n",
              "      <td>1008</td>\n",
              "      <td>1075</td>\n",
              "      <td>1152</td>\n",
              "      <td>1218</td>\n",
              "      <td>1306</td>\n",
              "      <td>1389</td>\n",
              "      <td>1583</td>\n",
              "      <td>1694</td>\n",
              "      <td>1783</td>\n",
              "      <td>1886</td>\n",
              "      <td>1981</td>\n",
              "      <td>2109</td>\n",
              "      <td>2206</td>\n",
              "      <td>2293</td>\n",
              "      <td>2415</td>\n",
              "      <td>2549</td>\n",
              "      <td>2649</td>\n",
              "      <td>2752</td>\n",
              "    </tr>\n",
              "  </tbody>\n",
              "</table>\n",
              "<p>1 rows × 108 columns</p>\n",
              "</div>"
            ],
            "text/plain": [
              "Date    30-01-2020  31-01-2020  01-02-2020  ...  14-05-2020  15-05-2020  16-05-2020\n",
              "Deaths           0           0           0  ...        2549        2649        2752\n",
              "\n",
              "[1 rows x 108 columns]"
            ]
          },
          "metadata": {
            "tags": []
          },
          "execution_count": 22
        }
      ]
    },
    {
      "cell_type": "code",
      "metadata": {
        "id": "NTy73kbaG2np",
        "colab_type": "code",
        "colab": {}
      },
      "source": [
        "dates=datewise_confirmed_cases.keys()"
      ],
      "execution_count": null,
      "outputs": []
    },
    {
      "cell_type": "code",
      "metadata": {
        "id": "OgNJQldShjUb",
        "colab_type": "code",
        "colab": {}
      },
      "source": [
        "cases_conf=[]\n",
        "cases_conf=datewise_confirmed_cases.to_numpy()"
      ],
      "execution_count": null,
      "outputs": []
    },
    {
      "cell_type": "code",
      "metadata": {
        "id": "ceTsrcaO3m7b",
        "colab_type": "code",
        "colab": {}
      },
      "source": [
        "cases_cure=[]\n",
        "cases_cure=datewise_cured_cases.to_numpy()"
      ],
      "execution_count": null,
      "outputs": []
    },
    {
      "cell_type": "code",
      "metadata": {
        "id": "diCxBEpi31zl",
        "colab_type": "code",
        "colab": {}
      },
      "source": [
        "cases_death=[]\n",
        "cases_death=datewise_death_cases.to_numpy()"
      ],
      "execution_count": null,
      "outputs": []
    },
    {
      "cell_type": "code",
      "metadata": {
        "id": "OkKLJeoFmrRn",
        "colab_type": "code",
        "colab": {
          "base_uri": "https://localhost:8080/",
          "height": 218
        },
        "outputId": "1d5b8015-6da8-41a6-8b7a-a46def8f2fba"
      },
      "source": [
        "cases_conf"
      ],
      "execution_count": null,
      "outputs": [
        {
          "output_type": "execute_result",
          "data": {
            "text/plain": [
              "array([[    1,     1,     2,     3,     3,     3,     3,     3,     3,\n",
              "            3,     3,     3,     3,     3,     3,     3,     3,     3,\n",
              "            3,     3,     3,     3,     3,     3,     3,     3,     3,\n",
              "            3,     3,     3,     3,     3,     5,     6,    28,    30,\n",
              "           31,    34,    39,    46,    58,    60,    74,    81,    84,\n",
              "          110,   114,   137,   151,   173,   223,   283,   360,   433,\n",
              "          519,   606,   694,   724,   909,  1024,  1251,  1397,  1834,\n",
              "         2069,  2547,  3072,  3577,  4281,  4789,  5274,  5865,  6761,\n",
              "         7529,  8447,  9352, 10815, 11933, 12759, 13835, 14792, 16116,\n",
              "        17656, 18985, 20471, 21700, 23452, 24893, 26605, 28160, 29834,\n",
              "        31709, 33330, 34972, 37157, 40124, 42836, 46711, 49391, 52952,\n",
              "        56342, 59662, 62939, 67152, 70756, 74281, 78003, 81970, 85710]])"
            ]
          },
          "metadata": {
            "tags": []
          },
          "execution_count": 27
        }
      ]
    },
    {
      "cell_type": "code",
      "metadata": {
        "id": "2gyqMR8A4Eoe",
        "colab_type": "code",
        "colab": {
          "base_uri": "https://localhost:8080/",
          "height": 218
        },
        "outputId": "558c11ff-7c2b-46aa-de95-b37b92e23559"
      },
      "source": [
        "cases_cure"
      ],
      "execution_count": null,
      "outputs": [
        {
          "output_type": "execute_result",
          "data": {
            "text/plain": [
              "array([[    0,     0,     0,     0,     0,     0,     0,     0,     0,\n",
              "            0,     0,     0,     0,     0,     0,     0,     0,     0,\n",
              "            0,     0,     0,     0,     0,     0,     0,     0,     0,\n",
              "            0,     0,     0,     0,     0,     0,     3,     3,     3,\n",
              "            3,     3,     3,     3,     3,     3,     3,     3,    10,\n",
              "           13,    13,    14,    14,    20,    23,    23,    24,    24,\n",
              "           40,    43,    45,    67,    80,    96,   102,   124,   144,\n",
              "          156,   163,   213,   275,   319,   353,   411,   478,   516,\n",
              "          653,   765,   980,  1190,  1344,  1515,  1767,  2015,  2302,\n",
              "         2842,  3260,  3960,  4325,  4814,  5210,  5914,  6362,  7027,\n",
              "         7797,  8373,  9065,  9951, 10887, 11762, 13161, 14183, 15267,\n",
              "        16540, 17847, 19358, 20917, 22455, 24386, 26235, 27920, 30153]])"
            ]
          },
          "metadata": {
            "tags": []
          },
          "execution_count": 28
        }
      ]
    },
    {
      "cell_type": "code",
      "metadata": {
        "id": "HeFEXV2N4Jan",
        "colab_type": "code",
        "colab": {
          "base_uri": "https://localhost:8080/",
          "height": 185
        },
        "outputId": "63e1427e-7f22-4f32-cc32-358e849ddfbe"
      },
      "source": [
        "cases_death"
      ],
      "execution_count": null,
      "outputs": [
        {
          "output_type": "execute_result",
          "data": {
            "text/plain": [
              "array([[   0,    0,    0,    0,    0,    0,    0,    0,    0,    0,    0,\n",
              "           0,    0,    0,    0,    0,    0,    0,    0,    0,    0,    0,\n",
              "           0,    0,    0,    0,    0,    0,    0,    0,    0,    0,    0,\n",
              "           0,    0,    0,    0,    0,    0,    0,    0,    0,    0,    1,\n",
              "           2,    2,    2,    3,    3,    4,    4,    4,    7,    7,    9,\n",
              "          10,   15,   17,   19,   27,   31,   35,   41,   53,   62,   75,\n",
              "          83,  111,  124,  149,  169,  206,  242,  273,  324,  353,  392,\n",
              "         420,  452,  488,  519,  559,  603,  652,  686,  723,  779,  826,\n",
              "         886,  937, 1008, 1075, 1152, 1218, 1306, 1389, 1583, 1694, 1783,\n",
              "        1886, 1981, 2109, 2206, 2293, 2415, 2549, 2649, 2752]])"
            ]
          },
          "metadata": {
            "tags": []
          },
          "execution_count": 29
        }
      ]
    },
    {
      "cell_type": "code",
      "metadata": {
        "id": "OPT4Kya1kfwb",
        "colab_type": "code",
        "colab": {}
      },
      "source": [
        "days=np.array([i for i in range(len(dates))]).reshape(-1,1)\n",
        "cases_conf=np.array(cases_conf).reshape(-1,1)\n",
        "cases_death=np.array(cases_death).reshape(-1,1)\n",
        "cases_cure=np.array(cases_cure).reshape(-1,1)"
      ],
      "execution_count": null,
      "outputs": []
    },
    {
      "cell_type": "code",
      "metadata": {
        "id": "WgpS9Bhrm0vT",
        "colab_type": "code",
        "colab": {
          "base_uri": "https://localhost:8080/",
          "height": 1000
        },
        "outputId": "261d266b-a231-469b-fc4b-14247a38ce85"
      },
      "source": [
        "days"
      ],
      "execution_count": null,
      "outputs": [
        {
          "output_type": "execute_result",
          "data": {
            "text/plain": [
              "array([[  0],\n",
              "       [  1],\n",
              "       [  2],\n",
              "       [  3],\n",
              "       [  4],\n",
              "       [  5],\n",
              "       [  6],\n",
              "       [  7],\n",
              "       [  8],\n",
              "       [  9],\n",
              "       [ 10],\n",
              "       [ 11],\n",
              "       [ 12],\n",
              "       [ 13],\n",
              "       [ 14],\n",
              "       [ 15],\n",
              "       [ 16],\n",
              "       [ 17],\n",
              "       [ 18],\n",
              "       [ 19],\n",
              "       [ 20],\n",
              "       [ 21],\n",
              "       [ 22],\n",
              "       [ 23],\n",
              "       [ 24],\n",
              "       [ 25],\n",
              "       [ 26],\n",
              "       [ 27],\n",
              "       [ 28],\n",
              "       [ 29],\n",
              "       [ 30],\n",
              "       [ 31],\n",
              "       [ 32],\n",
              "       [ 33],\n",
              "       [ 34],\n",
              "       [ 35],\n",
              "       [ 36],\n",
              "       [ 37],\n",
              "       [ 38],\n",
              "       [ 39],\n",
              "       [ 40],\n",
              "       [ 41],\n",
              "       [ 42],\n",
              "       [ 43],\n",
              "       [ 44],\n",
              "       [ 45],\n",
              "       [ 46],\n",
              "       [ 47],\n",
              "       [ 48],\n",
              "       [ 49],\n",
              "       [ 50],\n",
              "       [ 51],\n",
              "       [ 52],\n",
              "       [ 53],\n",
              "       [ 54],\n",
              "       [ 55],\n",
              "       [ 56],\n",
              "       [ 57],\n",
              "       [ 58],\n",
              "       [ 59],\n",
              "       [ 60],\n",
              "       [ 61],\n",
              "       [ 62],\n",
              "       [ 63],\n",
              "       [ 64],\n",
              "       [ 65],\n",
              "       [ 66],\n",
              "       [ 67],\n",
              "       [ 68],\n",
              "       [ 69],\n",
              "       [ 70],\n",
              "       [ 71],\n",
              "       [ 72],\n",
              "       [ 73],\n",
              "       [ 74],\n",
              "       [ 75],\n",
              "       [ 76],\n",
              "       [ 77],\n",
              "       [ 78],\n",
              "       [ 79],\n",
              "       [ 80],\n",
              "       [ 81],\n",
              "       [ 82],\n",
              "       [ 83],\n",
              "       [ 84],\n",
              "       [ 85],\n",
              "       [ 86],\n",
              "       [ 87],\n",
              "       [ 88],\n",
              "       [ 89],\n",
              "       [ 90],\n",
              "       [ 91],\n",
              "       [ 92],\n",
              "       [ 93],\n",
              "       [ 94],\n",
              "       [ 95],\n",
              "       [ 96],\n",
              "       [ 97],\n",
              "       [ 98],\n",
              "       [ 99],\n",
              "       [100],\n",
              "       [101],\n",
              "       [102],\n",
              "       [103],\n",
              "       [104],\n",
              "       [105],\n",
              "       [106],\n",
              "       [107]])"
            ]
          },
          "metadata": {
            "tags": []
          },
          "execution_count": 31
        }
      ]
    },
    {
      "cell_type": "code",
      "metadata": {
        "id": "AnLS3Yi8oVWo",
        "colab_type": "code",
        "colab": {
          "base_uri": "https://localhost:8080/",
          "height": 1000
        },
        "outputId": "18f7d296-5fa8-42fc-d8c6-39c99a5e6527"
      },
      "source": [
        "cases_conf"
      ],
      "execution_count": null,
      "outputs": [
        {
          "output_type": "execute_result",
          "data": {
            "text/plain": [
              "array([[    1],\n",
              "       [    1],\n",
              "       [    2],\n",
              "       [    3],\n",
              "       [    3],\n",
              "       [    3],\n",
              "       [    3],\n",
              "       [    3],\n",
              "       [    3],\n",
              "       [    3],\n",
              "       [    3],\n",
              "       [    3],\n",
              "       [    3],\n",
              "       [    3],\n",
              "       [    3],\n",
              "       [    3],\n",
              "       [    3],\n",
              "       [    3],\n",
              "       [    3],\n",
              "       [    3],\n",
              "       [    3],\n",
              "       [    3],\n",
              "       [    3],\n",
              "       [    3],\n",
              "       [    3],\n",
              "       [    3],\n",
              "       [    3],\n",
              "       [    3],\n",
              "       [    3],\n",
              "       [    3],\n",
              "       [    3],\n",
              "       [    3],\n",
              "       [    5],\n",
              "       [    6],\n",
              "       [   28],\n",
              "       [   30],\n",
              "       [   31],\n",
              "       [   34],\n",
              "       [   39],\n",
              "       [   46],\n",
              "       [   58],\n",
              "       [   60],\n",
              "       [   74],\n",
              "       [   81],\n",
              "       [   84],\n",
              "       [  110],\n",
              "       [  114],\n",
              "       [  137],\n",
              "       [  151],\n",
              "       [  173],\n",
              "       [  223],\n",
              "       [  283],\n",
              "       [  360],\n",
              "       [  433],\n",
              "       [  519],\n",
              "       [  606],\n",
              "       [  694],\n",
              "       [  724],\n",
              "       [  909],\n",
              "       [ 1024],\n",
              "       [ 1251],\n",
              "       [ 1397],\n",
              "       [ 1834],\n",
              "       [ 2069],\n",
              "       [ 2547],\n",
              "       [ 3072],\n",
              "       [ 3577],\n",
              "       [ 4281],\n",
              "       [ 4789],\n",
              "       [ 5274],\n",
              "       [ 5865],\n",
              "       [ 6761],\n",
              "       [ 7529],\n",
              "       [ 8447],\n",
              "       [ 9352],\n",
              "       [10815],\n",
              "       [11933],\n",
              "       [12759],\n",
              "       [13835],\n",
              "       [14792],\n",
              "       [16116],\n",
              "       [17656],\n",
              "       [18985],\n",
              "       [20471],\n",
              "       [21700],\n",
              "       [23452],\n",
              "       [24893],\n",
              "       [26605],\n",
              "       [28160],\n",
              "       [29834],\n",
              "       [31709],\n",
              "       [33330],\n",
              "       [34972],\n",
              "       [37157],\n",
              "       [40124],\n",
              "       [42836],\n",
              "       [46711],\n",
              "       [49391],\n",
              "       [52952],\n",
              "       [56342],\n",
              "       [59662],\n",
              "       [62939],\n",
              "       [67152],\n",
              "       [70756],\n",
              "       [74281],\n",
              "       [78003],\n",
              "       [81970],\n",
              "       [85710]])"
            ]
          },
          "metadata": {
            "tags": []
          },
          "execution_count": 32
        }
      ]
    },
    {
      "cell_type": "code",
      "metadata": {
        "id": "lc6c8Pj2Baa1",
        "colab_type": "code",
        "colab": {
          "base_uri": "https://localhost:8080/",
          "height": 1000
        },
        "outputId": "2629c33c-04fe-48fa-dc42-4664f00b3f1d"
      },
      "source": [
        "cases_cure"
      ],
      "execution_count": null,
      "outputs": [
        {
          "output_type": "execute_result",
          "data": {
            "text/plain": [
              "array([[    0],\n",
              "       [    0],\n",
              "       [    0],\n",
              "       [    0],\n",
              "       [    0],\n",
              "       [    0],\n",
              "       [    0],\n",
              "       [    0],\n",
              "       [    0],\n",
              "       [    0],\n",
              "       [    0],\n",
              "       [    0],\n",
              "       [    0],\n",
              "       [    0],\n",
              "       [    0],\n",
              "       [    0],\n",
              "       [    0],\n",
              "       [    0],\n",
              "       [    0],\n",
              "       [    0],\n",
              "       [    0],\n",
              "       [    0],\n",
              "       [    0],\n",
              "       [    0],\n",
              "       [    0],\n",
              "       [    0],\n",
              "       [    0],\n",
              "       [    0],\n",
              "       [    0],\n",
              "       [    0],\n",
              "       [    0],\n",
              "       [    0],\n",
              "       [    0],\n",
              "       [    3],\n",
              "       [    3],\n",
              "       [    3],\n",
              "       [    3],\n",
              "       [    3],\n",
              "       [    3],\n",
              "       [    3],\n",
              "       [    3],\n",
              "       [    3],\n",
              "       [    3],\n",
              "       [    3],\n",
              "       [   10],\n",
              "       [   13],\n",
              "       [   13],\n",
              "       [   14],\n",
              "       [   14],\n",
              "       [   20],\n",
              "       [   23],\n",
              "       [   23],\n",
              "       [   24],\n",
              "       [   24],\n",
              "       [   40],\n",
              "       [   43],\n",
              "       [   45],\n",
              "       [   67],\n",
              "       [   80],\n",
              "       [   96],\n",
              "       [  102],\n",
              "       [  124],\n",
              "       [  144],\n",
              "       [  156],\n",
              "       [  163],\n",
              "       [  213],\n",
              "       [  275],\n",
              "       [  319],\n",
              "       [  353],\n",
              "       [  411],\n",
              "       [  478],\n",
              "       [  516],\n",
              "       [  653],\n",
              "       [  765],\n",
              "       [  980],\n",
              "       [ 1190],\n",
              "       [ 1344],\n",
              "       [ 1515],\n",
              "       [ 1767],\n",
              "       [ 2015],\n",
              "       [ 2302],\n",
              "       [ 2842],\n",
              "       [ 3260],\n",
              "       [ 3960],\n",
              "       [ 4325],\n",
              "       [ 4814],\n",
              "       [ 5210],\n",
              "       [ 5914],\n",
              "       [ 6362],\n",
              "       [ 7027],\n",
              "       [ 7797],\n",
              "       [ 8373],\n",
              "       [ 9065],\n",
              "       [ 9951],\n",
              "       [10887],\n",
              "       [11762],\n",
              "       [13161],\n",
              "       [14183],\n",
              "       [15267],\n",
              "       [16540],\n",
              "       [17847],\n",
              "       [19358],\n",
              "       [20917],\n",
              "       [22455],\n",
              "       [24386],\n",
              "       [26235],\n",
              "       [27920],\n",
              "       [30153]])"
            ]
          },
          "metadata": {
            "tags": []
          },
          "execution_count": 33
        }
      ]
    },
    {
      "cell_type": "code",
      "metadata": {
        "id": "HFDQoOCFBecI",
        "colab_type": "code",
        "colab": {
          "base_uri": "https://localhost:8080/",
          "height": 1000
        },
        "outputId": "2771a498-f589-4ea0-9f5d-f4f45d45c1cb"
      },
      "source": [
        "cases_death"
      ],
      "execution_count": null,
      "outputs": [
        {
          "output_type": "execute_result",
          "data": {
            "text/plain": [
              "array([[   0],\n",
              "       [   0],\n",
              "       [   0],\n",
              "       [   0],\n",
              "       [   0],\n",
              "       [   0],\n",
              "       [   0],\n",
              "       [   0],\n",
              "       [   0],\n",
              "       [   0],\n",
              "       [   0],\n",
              "       [   0],\n",
              "       [   0],\n",
              "       [   0],\n",
              "       [   0],\n",
              "       [   0],\n",
              "       [   0],\n",
              "       [   0],\n",
              "       [   0],\n",
              "       [   0],\n",
              "       [   0],\n",
              "       [   0],\n",
              "       [   0],\n",
              "       [   0],\n",
              "       [   0],\n",
              "       [   0],\n",
              "       [   0],\n",
              "       [   0],\n",
              "       [   0],\n",
              "       [   0],\n",
              "       [   0],\n",
              "       [   0],\n",
              "       [   0],\n",
              "       [   0],\n",
              "       [   0],\n",
              "       [   0],\n",
              "       [   0],\n",
              "       [   0],\n",
              "       [   0],\n",
              "       [   0],\n",
              "       [   0],\n",
              "       [   0],\n",
              "       [   0],\n",
              "       [   1],\n",
              "       [   2],\n",
              "       [   2],\n",
              "       [   2],\n",
              "       [   3],\n",
              "       [   3],\n",
              "       [   4],\n",
              "       [   4],\n",
              "       [   4],\n",
              "       [   7],\n",
              "       [   7],\n",
              "       [   9],\n",
              "       [  10],\n",
              "       [  15],\n",
              "       [  17],\n",
              "       [  19],\n",
              "       [  27],\n",
              "       [  31],\n",
              "       [  35],\n",
              "       [  41],\n",
              "       [  53],\n",
              "       [  62],\n",
              "       [  75],\n",
              "       [  83],\n",
              "       [ 111],\n",
              "       [ 124],\n",
              "       [ 149],\n",
              "       [ 169],\n",
              "       [ 206],\n",
              "       [ 242],\n",
              "       [ 273],\n",
              "       [ 324],\n",
              "       [ 353],\n",
              "       [ 392],\n",
              "       [ 420],\n",
              "       [ 452],\n",
              "       [ 488],\n",
              "       [ 519],\n",
              "       [ 559],\n",
              "       [ 603],\n",
              "       [ 652],\n",
              "       [ 686],\n",
              "       [ 723],\n",
              "       [ 779],\n",
              "       [ 826],\n",
              "       [ 886],\n",
              "       [ 937],\n",
              "       [1008],\n",
              "       [1075],\n",
              "       [1152],\n",
              "       [1218],\n",
              "       [1306],\n",
              "       [1389],\n",
              "       [1583],\n",
              "       [1694],\n",
              "       [1783],\n",
              "       [1886],\n",
              "       [1981],\n",
              "       [2109],\n",
              "       [2206],\n",
              "       [2293],\n",
              "       [2415],\n",
              "       [2549],\n",
              "       [2649],\n",
              "       [2752]])"
            ]
          },
          "metadata": {
            "tags": []
          },
          "execution_count": 34
        }
      ]
    },
    {
      "cell_type": "code",
      "metadata": {
        "id": "8A71dlQAoj0u",
        "colab_type": "code",
        "colab": {}
      },
      "source": [
        "days_in_future=10\n",
        "future_forecast=np.array([i for i in range(len(days)+days_in_future)]).reshape(-1,1)\n",
        "adjusted_dates=future_forecast[:-10]"
      ],
      "execution_count": null,
      "outputs": []
    },
    {
      "cell_type": "code",
      "metadata": {
        "id": "V43wgAsXpVuA",
        "colab_type": "code",
        "colab": {
          "base_uri": "https://localhost:8080/",
          "height": 1000
        },
        "outputId": "f4292f28-8d1c-48b0-e6ab-a9cb0ce4d125"
      },
      "source": [
        "future_forecast"
      ],
      "execution_count": null,
      "outputs": [
        {
          "output_type": "execute_result",
          "data": {
            "text/plain": [
              "array([[  0],\n",
              "       [  1],\n",
              "       [  2],\n",
              "       [  3],\n",
              "       [  4],\n",
              "       [  5],\n",
              "       [  6],\n",
              "       [  7],\n",
              "       [  8],\n",
              "       [  9],\n",
              "       [ 10],\n",
              "       [ 11],\n",
              "       [ 12],\n",
              "       [ 13],\n",
              "       [ 14],\n",
              "       [ 15],\n",
              "       [ 16],\n",
              "       [ 17],\n",
              "       [ 18],\n",
              "       [ 19],\n",
              "       [ 20],\n",
              "       [ 21],\n",
              "       [ 22],\n",
              "       [ 23],\n",
              "       [ 24],\n",
              "       [ 25],\n",
              "       [ 26],\n",
              "       [ 27],\n",
              "       [ 28],\n",
              "       [ 29],\n",
              "       [ 30],\n",
              "       [ 31],\n",
              "       [ 32],\n",
              "       [ 33],\n",
              "       [ 34],\n",
              "       [ 35],\n",
              "       [ 36],\n",
              "       [ 37],\n",
              "       [ 38],\n",
              "       [ 39],\n",
              "       [ 40],\n",
              "       [ 41],\n",
              "       [ 42],\n",
              "       [ 43],\n",
              "       [ 44],\n",
              "       [ 45],\n",
              "       [ 46],\n",
              "       [ 47],\n",
              "       [ 48],\n",
              "       [ 49],\n",
              "       [ 50],\n",
              "       [ 51],\n",
              "       [ 52],\n",
              "       [ 53],\n",
              "       [ 54],\n",
              "       [ 55],\n",
              "       [ 56],\n",
              "       [ 57],\n",
              "       [ 58],\n",
              "       [ 59],\n",
              "       [ 60],\n",
              "       [ 61],\n",
              "       [ 62],\n",
              "       [ 63],\n",
              "       [ 64],\n",
              "       [ 65],\n",
              "       [ 66],\n",
              "       [ 67],\n",
              "       [ 68],\n",
              "       [ 69],\n",
              "       [ 70],\n",
              "       [ 71],\n",
              "       [ 72],\n",
              "       [ 73],\n",
              "       [ 74],\n",
              "       [ 75],\n",
              "       [ 76],\n",
              "       [ 77],\n",
              "       [ 78],\n",
              "       [ 79],\n",
              "       [ 80],\n",
              "       [ 81],\n",
              "       [ 82],\n",
              "       [ 83],\n",
              "       [ 84],\n",
              "       [ 85],\n",
              "       [ 86],\n",
              "       [ 87],\n",
              "       [ 88],\n",
              "       [ 89],\n",
              "       [ 90],\n",
              "       [ 91],\n",
              "       [ 92],\n",
              "       [ 93],\n",
              "       [ 94],\n",
              "       [ 95],\n",
              "       [ 96],\n",
              "       [ 97],\n",
              "       [ 98],\n",
              "       [ 99],\n",
              "       [100],\n",
              "       [101],\n",
              "       [102],\n",
              "       [103],\n",
              "       [104],\n",
              "       [105],\n",
              "       [106],\n",
              "       [107],\n",
              "       [108],\n",
              "       [109],\n",
              "       [110],\n",
              "       [111],\n",
              "       [112],\n",
              "       [113],\n",
              "       [114],\n",
              "       [115],\n",
              "       [116],\n",
              "       [117]])"
            ]
          },
          "metadata": {
            "tags": []
          },
          "execution_count": 36
        }
      ]
    },
    {
      "cell_type": "code",
      "metadata": {
        "id": "BNlKzOJsqgO-",
        "colab_type": "code",
        "colab": {}
      },
      "source": [
        "start='30-01-2020'\n",
        "start_date=datetime.datetime.strptime(start,'%d-%m-%Y')\n",
        "future_forecast_dates=[]\n",
        "for i in range(len(future_forecast)):\n",
        "  future_forecast_dates.append((start_date + datetime.timedelta(days=i)).strftime('%d-%m-%Y'))"
      ],
      "execution_count": null,
      "outputs": []
    },
    {
      "cell_type": "code",
      "metadata": {
        "id": "YD7S7-WYvfU2",
        "colab_type": "code",
        "colab": {
          "base_uri": "https://localhost:8080/",
          "height": 50
        },
        "outputId": "348b26b7-4ccd-42a2-e26b-b2950a005a20"
      },
      "source": [
        "from sklearn.linear_model import LinearRegression\n",
        "linear_model= LinearRegression(normalize=True, fit_intercept=True)\n",
        "linear_model.fit(days,cases_conf)\n",
        "test_linear_pred=linear_model.predict(days)\n",
        "linear_pred=linear_model.predict(future_forecast)\n",
        "print('MAE:', mean_absolute_error(test_linear_pred,cases_conf))\n",
        "print('MSE:', mean_squared_error(test_linear_pred,cases_conf))"
      ],
      "execution_count": null,
      "outputs": [
        {
          "output_type": "stream",
          "text": [
            "MAE: 10939.751146039194\n",
            "MSE: 185810633.77983642\n"
          ],
          "name": "stdout"
        }
      ]
    },
    {
      "cell_type": "code",
      "metadata": {
        "id": "GetkreHbsBb4",
        "colab_type": "code",
        "colab": {
          "base_uri": "https://localhost:8080/",
          "height": 282
        },
        "outputId": "d2b91e50-84dc-4c74-c5dd-56b0e4ac6790"
      },
      "source": [
        "plt.plot(cases_conf)\n",
        "plt.plot(test_linear_pred)"
      ],
      "execution_count": null,
      "outputs": [
        {
          "output_type": "execute_result",
          "data": {
            "text/plain": [
              "[<matplotlib.lines.Line2D at 0x7fb12c692940>]"
            ]
          },
          "metadata": {
            "tags": []
          },
          "execution_count": 39
        },
        {
          "output_type": "display_data",
          "data": {
            "image/png": "[encoded data removed]",
            "text/plain": [
              "<Figure size 432x288 with 1 Axes>"
            ]
          },
          "metadata": {
            "tags": [],
            "needs_background": "light"
          }
        }
      ]
    },
    {
      "cell_type": "code",
      "metadata": {
        "id": "Ev7f9Th0vqb4",
        "colab_type": "code",
        "colab": {
          "base_uri": "https://localhost:8080/",
          "height": 202
        },
        "outputId": "c67d09c8-b432-4288-9196-09cd3b741e71"
      },
      "source": [
        "print('Linear regression for future prediction')\n",
        "print(linear_pred[-10:])"
      ],
      "execution_count": null,
      "outputs": [
        {
          "output_type": "stream",
          "text": [
            "Linear regression for future prediction\n",
            "[[42123.82502596]\n",
            " [42663.44413959]\n",
            " [43203.06325321]\n",
            " [43742.68236684]\n",
            " [44282.30148047]\n",
            " [44821.92059409]\n",
            " [45361.53970772]\n",
            " [45901.15882134]\n",
            " [46440.77793497]\n",
            " [46980.3970486 ]]\n"
          ],
          "name": "stdout"
        }
      ]
    },
    {
      "cell_type": "code",
      "metadata": {
        "id": "F_tykUH-EGj8",
        "colab_type": "code",
        "colab": {
          "base_uri": "https://localhost:8080/",
          "height": 50
        },
        "outputId": "290a1e3a-f69a-4f05-8302-61545d892fcc"
      },
      "source": [
        "linear_model.fit(days,cases_cure)\n",
        "test_linear_pred=linear_model.predict(days)\n",
        "linear_pred=linear_model.predict(future_forecast)\n",
        "print('MAE:', mean_absolute_error(test_linear_pred,cases_cure))\n",
        "print('MSE:', mean_squared_error(test_linear_pred,cases_cure))"
      ],
      "execution_count": null,
      "outputs": [
        {
          "output_type": "stream",
          "text": [
            "MAE: 3730.181099921232\n",
            "MSE: 23842718.03320694\n"
          ],
          "name": "stdout"
        }
      ]
    },
    {
      "cell_type": "code",
      "metadata": {
        "id": "QQ8ur9J5Dx-F",
        "colab_type": "code",
        "colab": {
          "base_uri": "https://localhost:8080/",
          "height": 282
        },
        "outputId": "86888550-a8a3-4424-c94c-56207ea05317"
      },
      "source": [
        "plt.plot(cases_cure)\n",
        "plt.plot(test_linear_pred)"
      ],
      "execution_count": null,
      "outputs": [
        {
          "output_type": "execute_result",
          "data": {
            "text/plain": [
              "[<matplotlib.lines.Line2D at 0x7fb12ae9cac8>]"
            ]
          },
          "metadata": {
            "tags": []
          },
          "execution_count": 42
        },
        {
          "output_type": "display_data",
          "data": {
            "image/png": "[encoded data removed]",
            "text/plain": [
              "<Figure size 432x288 with 1 Axes>"
            ]
          },
          "metadata": {
            "tags": [],
            "needs_background": "light"
          }
        }
      ]
    },
    {
      "cell_type": "code",
      "metadata": {
        "id": "qqF5yQhnEymQ",
        "colab_type": "code",
        "colab": {
          "base_uri": "https://localhost:8080/",
          "height": 202
        },
        "outputId": "f6f815a8-141a-4334-fb6c-48d2ffd709bc"
      },
      "source": [
        "print('Linear regression for future prediction')\n",
        "print(linear_pred[-10:])"
      ],
      "execution_count": null,
      "outputs": [
        {
          "output_type": "stream",
          "text": [
            "Linear regression for future prediction\n",
            "[[11783.29993077]\n",
            " [11937.26839705]\n",
            " [12091.23686333]\n",
            " [12245.20532961]\n",
            " [12399.17379589]\n",
            " [12553.14226217]\n",
            " [12707.11072845]\n",
            " [12861.07919473]\n",
            " [13015.04766101]\n",
            " [13169.01612729]]\n"
          ],
          "name": "stdout"
        }
      ]
    },
    {
      "cell_type": "code",
      "metadata": {
        "id": "Ckgu1BdiEhlh",
        "colab_type": "code",
        "colab": {
          "base_uri": "https://localhost:8080/",
          "height": 50
        },
        "outputId": "38d06c83-f368-477e-87c1-187898299ee9"
      },
      "source": [
        "linear_model.fit(days,cases_death)\n",
        "test_linear_pred=linear_model.predict(days)\n",
        "linear_pred=linear_model.predict(future_forecast)\n",
        "print('MAE:', mean_absolute_error(test_linear_pred,cases_death))\n",
        "print('MSE:', mean_squared_error(test_linear_pred,cases_death))"
      ],
      "execution_count": null,
      "outputs": [
        {
          "output_type": "stream",
          "text": [
            "MAE: 364.4483479640337\n",
            "MSE: 203353.06926875722\n"
          ],
          "name": "stdout"
        }
      ]
    },
    {
      "cell_type": "code",
      "metadata": {
        "id": "K-wPwA_cEtDP",
        "colab_type": "code",
        "colab": {
          "base_uri": "https://localhost:8080/",
          "height": 282
        },
        "outputId": "0b598c00-1bc3-4444-c104-2a687ef904af"
      },
      "source": [
        "plt.plot(cases_death)\n",
        "plt.plot(test_linear_pred)"
      ],
      "execution_count": null,
      "outputs": [
        {
          "output_type": "execute_result",
          "data": {
            "text/plain": [
              "[<matplotlib.lines.Line2D at 0x7fb12a9c79e8>]"
            ]
          },
          "metadata": {
            "tags": []
          },
          "execution_count": 45
        },
        {
          "output_type": "display_data",
          "data": {
            "image/png": "[encoded data removed]",
            "text/plain": [
              "<Figure size 432x288 with 1 Axes>"
            ]
          },
          "metadata": {
            "tags": [],
            "needs_background": "light"
          }
        }
      ]
    },
    {
      "cell_type": "code",
      "metadata": {
        "id": "8qIKAOvFE4bC",
        "colab_type": "code",
        "colab": {
          "base_uri": "https://localhost:8080/",
          "height": 202
        },
        "outputId": "0db843c4-b193-4632-aabd-a36f78adbb7c"
      },
      "source": [
        "print('Linear regression for future prediction')\n",
        "print(linear_pred[-10:])"
      ],
      "execution_count": null,
      "outputs": [
        {
          "output_type": "stream",
          "text": [
            "Linear regression for future prediction\n",
            "[[1370.39269643]\n",
            " [1387.98790731]\n",
            " [1405.58311819]\n",
            " [1423.17832906]\n",
            " [1440.77353994]\n",
            " [1458.36875081]\n",
            " [1475.96396169]\n",
            " [1493.55917257]\n",
            " [1511.15438344]\n",
            " [1528.74959432]]\n"
          ],
          "name": "stdout"
        }
      ]
    }
  ]
}